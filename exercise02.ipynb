{
 "cells": [
  {
   "cell_type": "code",
   "execution_count": null,
   "metadata": {},
   "outputs": [
    {
     "name": "stdout",
     "output_type": "stream",
     "text": [
      "number1=3\n",
      "it is odd\n",
      "number1=4\n",
      "4 is even and it is a multiples of 4 \n",
      "number1=5\n",
      "it is odd\n",
      "number1=6\n",
      "it is even\n"
     ]
    }
   ],
   "source": [
    "counter=0\n",
    "while counter<=1:\n",
    "    number1=int(input(\"number1=\"))\n",
    "    reminder= int(number1%2) \n",
    "    reminder2=int(number1%4)\n",
    "    if reminder == 0 and reminder2==0:\n",
    "        print(number1,\"is even and it is a multiples of 4 \")\n",
    "    elif reminder == 0 and reminder2 !=0 :\n",
    "        print(\"it is even\")\n",
    "    else:\n",
    "        print(\"it is odd\")"
   ]
  }
 ],
 "metadata": {
  "kernelspec": {
   "display_name": "Python 3",
   "language": "python",
   "name": "python3"
  },
  "language_info": {
   "codemirror_mode": {
    "name": "ipython",
    "version": 3
   },
   "file_extension": ".py",
   "mimetype": "text/x-python",
   "name": "python",
   "nbconvert_exporter": "python",
   "pygments_lexer": "ipython3",
   "version": "3.7.3"
  }
 },
 "nbformat": 4,
 "nbformat_minor": 2
}
